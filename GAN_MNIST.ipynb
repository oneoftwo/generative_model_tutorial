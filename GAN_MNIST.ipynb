{
  "nbformat": 4,
  "nbformat_minor": 0,
  "metadata": {
    "accelerator": "GPU",
    "colab": {
      "name": "GAN_MNIST",
      "provenance": [],
      "collapsed_sections": [],
      "toc_visible": true,
      "machine_shape": "hm",
      "authorship_tag": "ABX9TyNXjcCRMlm55bYG99CLh8vv",
      "include_colab_link": true
    },
    "kernelspec": {
      "display_name": "Python 3",
      "name": "python3"
    },
    "language_info": {
      "name": "python"
    },
    "widgets": {
      "application/vnd.jupyter.widget-state+json": {
        "7131e271f6874de79562412cac318c77": {
          "model_module": "@jupyter-widgets/controls",
          "model_name": "HBoxModel",
          "model_module_version": "1.5.0",
          "state": {
            "_view_name": "HBoxView",
            "_dom_classes": [],
            "_model_name": "HBoxModel",
            "_view_module": "@jupyter-widgets/controls",
            "_model_module_version": "1.5.0",
            "_view_count": null,
            "_view_module_version": "1.5.0",
            "box_style": "",
            "layout": "IPY_MODEL_8054859db17148f1bfb4cb4d0f518050",
            "_model_module": "@jupyter-widgets/controls",
            "children": [
              "IPY_MODEL_0a01c32b4675440ba5ca9f7b36cbee41",
              "IPY_MODEL_dd295dce903a45a18dc30f7b9ec42e47",
              "IPY_MODEL_e5008efa2890402aa81f829a2d6350e1"
            ]
          }
        },
        "8054859db17148f1bfb4cb4d0f518050": {
          "model_module": "@jupyter-widgets/base",
          "model_name": "LayoutModel",
          "model_module_version": "1.2.0",
          "state": {
            "_view_name": "LayoutView",
            "grid_template_rows": null,
            "right": null,
            "justify_content": null,
            "_view_module": "@jupyter-widgets/base",
            "overflow": null,
            "_model_module_version": "1.2.0",
            "_view_count": null,
            "flex_flow": null,
            "width": null,
            "min_width": null,
            "border": null,
            "align_items": null,
            "bottom": null,
            "_model_module": "@jupyter-widgets/base",
            "top": null,
            "grid_column": null,
            "overflow_y": null,
            "overflow_x": null,
            "grid_auto_flow": null,
            "grid_area": null,
            "grid_template_columns": null,
            "flex": null,
            "_model_name": "LayoutModel",
            "justify_items": null,
            "grid_row": null,
            "max_height": null,
            "align_content": null,
            "visibility": null,
            "align_self": null,
            "height": null,
            "min_height": null,
            "padding": null,
            "grid_auto_rows": null,
            "grid_gap": null,
            "max_width": null,
            "order": null,
            "_view_module_version": "1.2.0",
            "grid_template_areas": null,
            "object_position": null,
            "object_fit": null,
            "grid_auto_columns": null,
            "margin": null,
            "display": null,
            "left": null
          }
        },
        "0a01c32b4675440ba5ca9f7b36cbee41": {
          "model_module": "@jupyter-widgets/controls",
          "model_name": "HTMLModel",
          "model_module_version": "1.5.0",
          "state": {
            "_view_name": "HTMLView",
            "style": "IPY_MODEL_4e48aef8453f4b0ab96336400c545add",
            "_dom_classes": [],
            "description": "",
            "_model_name": "HTMLModel",
            "placeholder": "​",
            "_view_module": "@jupyter-widgets/controls",
            "_model_module_version": "1.5.0",
            "value": "100%",
            "_view_count": null,
            "_view_module_version": "1.5.0",
            "description_tooltip": null,
            "_model_module": "@jupyter-widgets/controls",
            "layout": "IPY_MODEL_e373788911c24281ab7f4df0d9285824"
          }
        },
        "dd295dce903a45a18dc30f7b9ec42e47": {
          "model_module": "@jupyter-widgets/controls",
          "model_name": "FloatProgressModel",
          "model_module_version": "1.5.0",
          "state": {
            "_view_name": "ProgressView",
            "style": "IPY_MODEL_263769f1685b4660afa99965cbf38214",
            "_dom_classes": [],
            "description": "",
            "_model_name": "FloatProgressModel",
            "bar_style": "success",
            "max": 3750,
            "_view_module": "@jupyter-widgets/controls",
            "_model_module_version": "1.5.0",
            "value": 3750,
            "_view_count": null,
            "_view_module_version": "1.5.0",
            "orientation": "horizontal",
            "min": 0,
            "description_tooltip": null,
            "_model_module": "@jupyter-widgets/controls",
            "layout": "IPY_MODEL_0a98465f404c42319f91042372e19a4d"
          }
        },
        "e5008efa2890402aa81f829a2d6350e1": {
          "model_module": "@jupyter-widgets/controls",
          "model_name": "HTMLModel",
          "model_module_version": "1.5.0",
          "state": {
            "_view_name": "HTMLView",
            "style": "IPY_MODEL_02c1ba0354944eeea5d297fcfabc64bf",
            "_dom_classes": [],
            "description": "",
            "_model_name": "HTMLModel",
            "placeholder": "​",
            "_view_module": "@jupyter-widgets/controls",
            "_model_module_version": "1.5.0",
            "value": " 3750/3750 [00:33&lt;00:00, 114.91it/s]",
            "_view_count": null,
            "_view_module_version": "1.5.0",
            "description_tooltip": null,
            "_model_module": "@jupyter-widgets/controls",
            "layout": "IPY_MODEL_3e1691a3fbf347359b01f0fc67504570"
          }
        },
        "4e48aef8453f4b0ab96336400c545add": {
          "model_module": "@jupyter-widgets/controls",
          "model_name": "DescriptionStyleModel",
          "model_module_version": "1.5.0",
          "state": {
            "_view_name": "StyleView",
            "_model_name": "DescriptionStyleModel",
            "description_width": "",
            "_view_module": "@jupyter-widgets/base",
            "_model_module_version": "1.5.0",
            "_view_count": null,
            "_view_module_version": "1.2.0",
            "_model_module": "@jupyter-widgets/controls"
          }
        },
        "e373788911c24281ab7f4df0d9285824": {
          "model_module": "@jupyter-widgets/base",
          "model_name": "LayoutModel",
          "model_module_version": "1.2.0",
          "state": {
            "_view_name": "LayoutView",
            "grid_template_rows": null,
            "right": null,
            "justify_content": null,
            "_view_module": "@jupyter-widgets/base",
            "overflow": null,
            "_model_module_version": "1.2.0",
            "_view_count": null,
            "flex_flow": null,
            "width": null,
            "min_width": null,
            "border": null,
            "align_items": null,
            "bottom": null,
            "_model_module": "@jupyter-widgets/base",
            "top": null,
            "grid_column": null,
            "overflow_y": null,
            "overflow_x": null,
            "grid_auto_flow": null,
            "grid_area": null,
            "grid_template_columns": null,
            "flex": null,
            "_model_name": "LayoutModel",
            "justify_items": null,
            "grid_row": null,
            "max_height": null,
            "align_content": null,
            "visibility": null,
            "align_self": null,
            "height": null,
            "min_height": null,
            "padding": null,
            "grid_auto_rows": null,
            "grid_gap": null,
            "max_width": null,
            "order": null,
            "_view_module_version": "1.2.0",
            "grid_template_areas": null,
            "object_position": null,
            "object_fit": null,
            "grid_auto_columns": null,
            "margin": null,
            "display": null,
            "left": null
          }
        },
        "263769f1685b4660afa99965cbf38214": {
          "model_module": "@jupyter-widgets/controls",
          "model_name": "ProgressStyleModel",
          "model_module_version": "1.5.0",
          "state": {
            "_view_name": "StyleView",
            "_model_name": "ProgressStyleModel",
            "description_width": "",
            "_view_module": "@jupyter-widgets/base",
            "_model_module_version": "1.5.0",
            "_view_count": null,
            "_view_module_version": "1.2.0",
            "bar_color": null,
            "_model_module": "@jupyter-widgets/controls"
          }
        },
        "0a98465f404c42319f91042372e19a4d": {
          "model_module": "@jupyter-widgets/base",
          "model_name": "LayoutModel",
          "model_module_version": "1.2.0",
          "state": {
            "_view_name": "LayoutView",
            "grid_template_rows": null,
            "right": null,
            "justify_content": null,
            "_view_module": "@jupyter-widgets/base",
            "overflow": null,
            "_model_module_version": "1.2.0",
            "_view_count": null,
            "flex_flow": null,
            "width": null,
            "min_width": null,
            "border": null,
            "align_items": null,
            "bottom": null,
            "_model_module": "@jupyter-widgets/base",
            "top": null,
            "grid_column": null,
            "overflow_y": null,
            "overflow_x": null,
            "grid_auto_flow": null,
            "grid_area": null,
            "grid_template_columns": null,
            "flex": null,
            "_model_name": "LayoutModel",
            "justify_items": null,
            "grid_row": null,
            "max_height": null,
            "align_content": null,
            "visibility": null,
            "align_self": null,
            "height": null,
            "min_height": null,
            "padding": null,
            "grid_auto_rows": null,
            "grid_gap": null,
            "max_width": null,
            "order": null,
            "_view_module_version": "1.2.0",
            "grid_template_areas": null,
            "object_position": null,
            "object_fit": null,
            "grid_auto_columns": null,
            "margin": null,
            "display": null,
            "left": null
          }
        },
        "02c1ba0354944eeea5d297fcfabc64bf": {
          "model_module": "@jupyter-widgets/controls",
          "model_name": "DescriptionStyleModel",
          "model_module_version": "1.5.0",
          "state": {
            "_view_name": "StyleView",
            "_model_name": "DescriptionStyleModel",
            "description_width": "",
            "_view_module": "@jupyter-widgets/base",
            "_model_module_version": "1.5.0",
            "_view_count": null,
            "_view_module_version": "1.2.0",
            "_model_module": "@jupyter-widgets/controls"
          }
        },
        "3e1691a3fbf347359b01f0fc67504570": {
          "model_module": "@jupyter-widgets/base",
          "model_name": "LayoutModel",
          "model_module_version": "1.2.0",
          "state": {
            "_view_name": "LayoutView",
            "grid_template_rows": null,
            "right": null,
            "justify_content": null,
            "_view_module": "@jupyter-widgets/base",
            "overflow": null,
            "_model_module_version": "1.2.0",
            "_view_count": null,
            "flex_flow": null,
            "width": null,
            "min_width": null,
            "border": null,
            "align_items": null,
            "bottom": null,
            "_model_module": "@jupyter-widgets/base",
            "top": null,
            "grid_column": null,
            "overflow_y": null,
            "overflow_x": null,
            "grid_auto_flow": null,
            "grid_area": null,
            "grid_template_columns": null,
            "flex": null,
            "_model_name": "LayoutModel",
            "justify_items": null,
            "grid_row": null,
            "max_height": null,
            "align_content": null,
            "visibility": null,
            "align_self": null,
            "height": null,
            "min_height": null,
            "padding": null,
            "grid_auto_rows": null,
            "grid_gap": null,
            "max_width": null,
            "order": null,
            "_view_module_version": "1.2.0",
            "grid_template_areas": null,
            "object_position": null,
            "object_fit": null,
            "grid_auto_columns": null,
            "margin": null,
            "display": null,
            "left": null
          }
        }
      }
    }
  },
  "cells": [
    {
      "cell_type": "markdown",
      "metadata": {
        "id": "view-in-github",
        "colab_type": "text"
      },
      "source": [
        "<a href=\"https://colab.research.google.com/github/oneoftwo/generative_model_tutorials/blob/main/GAN_MNIST.ipynb\" target=\"_parent\"><img src=\"https://colab.research.google.com/assets/colab-badge.svg\" alt=\"Open In Colab\"/></a>"
      ]
    },
    {
      "cell_type": "markdown",
      "metadata": {
        "id": "NzFMM2jBkw60"
      },
      "source": [
        "# **Generative Adverserial Network**"
      ]
    },
    {
      "cell_type": "markdown",
      "metadata": {
        "id": "ZRTIvZJZdMF0"
      },
      "source": [
        "## **Import and Download Dataset**"
      ]
    },
    {
      "cell_type": "code",
      "metadata": {
        "id": "mcJJLD8jdLnP"
      },
      "source": [
        "import numpy as np\n",
        "import random as random\n",
        "import time as time\n",
        "from tqdm import tqdm\n",
        "from tqdm.notebook import tqdm\n",
        "\n",
        "import torch\n",
        "from torch import nn\n",
        "from torch import optim\n",
        "from torch.nn import functional as F\n",
        "\n",
        "\n",
        "from matplotlib import pyplot as plt\n",
        "from matplotlib import cm\n"
      ],
      "execution_count": 19,
      "outputs": []
    },
    {
      "cell_type": "code",
      "metadata": {
        "id": "l0BTQsa8MEVd"
      },
      "source": [
        "#==============================================================================#\n",
        "# excecute ====================================================================#\n",
        "from torch.utils.data import DataLoader\n",
        "from torchvision.datasets import MNIST\n",
        "\n",
        "from torchvision import datasets, transforms\n",
        "batch_size = 16\n",
        "download_root = './MNIST_DATASET'\n",
        "train_dataset = MNIST(download_root, transform=transforms.ToTensor(), \\\n",
        "        train=True, download=True)\n",
        "test_dataset = MNIST(download_root, transform=transforms.ToTensor(), \\\n",
        "        train=False, download=True)\n",
        "train_loader = DataLoader(dataset=train_dataset, batch_size=batch_size, \\\n",
        "        shuffle=True, drop_last=True)\n",
        "test_loader = DataLoader(dataset=test_dataset, batch_size=batch_size, \\\n",
        "        shuffle=True, drop_last=True)\n",
        "#==============================================================================#\n"
      ],
      "execution_count": 15,
      "outputs": []
    },
    {
      "cell_type": "markdown",
      "metadata": {
        "id": "rqwHjI824b-S"
      },
      "source": [
        "## **Utils**"
      ]
    },
    {
      "cell_type": "code",
      "metadata": {
        "colab": {
          "base_uri": "https://localhost:8080/",
          "height": 98
        },
        "id": "0oNzYoY_4bL6",
        "outputId": "c4b99033-3fb6-489a-9597-d67af2672c4a"
      },
      "source": [
        "################################################################################\n",
        "# utils ########################################################################\n",
        "\n",
        "def plot_10(x):\n",
        "        fig = plt.figure(figsize=(10, 30))\n",
        "        for idx in range(5):\n",
        "            img = x[idx].cpu().squeeze().detach().numpy()\n",
        "            ax = fig.add_subplot(1, 10, idx + 1)\n",
        "            ax.imshow(img, cmap=cm.gray)\n",
        "        plt.show()\n",
        "\n",
        "################################################################################\n",
        "\n",
        "\n",
        "#==============================================================================#\n",
        "# sanity check ================================================================#\n",
        "plot_10(torch.rand(20, 1, 28, 28))\n",
        "#==============================================================================#\n"
      ],
      "execution_count": 10,
      "outputs": [
        {
          "output_type": "display_data",
          "data": {
            "image/png": "[encoded data removed]",
            "text/plain": [
              "<Figure size 720x2160 with 5 Axes>"
            ]
          },
          "metadata": {
            "needs_background": "light"
          }
        }
      ]
    },
    {
      "cell_type": "markdown",
      "metadata": {
        "id": "zfaSoLvzLAy5"
      },
      "source": [
        "## **Model**\n",
        "Generative adverserial network"
      ]
    },
    {
      "cell_type": "code",
      "metadata": {
        "colab": {
          "base_uri": "https://localhost:8080/"
        },
        "id": "XMoa9X-2d-QT",
        "outputId": "d8319338-8e86-4c47-db31-80b48102f9d2"
      },
      "source": [
        "################################################################################\n",
        "# GAN ##########################################################################\n",
        "\n",
        "def sampler(batch_size, z_dim):\n",
        "    z = torch.randn(batch_size, z_dim)\n",
        "    return z\n",
        "\n",
        "# GAN generator\n",
        "class Generator(nn.Module):\n",
        "    \n",
        "    def __init__(self, z_dim=2):\n",
        "        super().__init__()\n",
        "        self.fc = nn.Sequential(\\\n",
        "                nn.Linear(z_dim, 128), \\\n",
        "                nn.SiLU(), \\\n",
        "                nn.Linear(128, 256), \\\n",
        "                nn.SiLU(), \\\n",
        "                nn.Linear(256, 512), \\\n",
        "                nn.SiLU(), \\\n",
        "                nn.Linear(512, 28 * 28))\n",
        "        \n",
        "    def forward(self, z):\n",
        "        b = z.size(0)\n",
        "        x = self.fc(z)\n",
        "        x = x.view(b, 1, 28, 28)\n",
        "        x = torch.sigmoid(x)\n",
        "        return x\n",
        "\n",
        "\n",
        "# GAN discriminaotr, CNN based classifier\n",
        "class Discriminator(nn.Module):\n",
        "\n",
        "    def __init__(self):\n",
        "        super().__init__()\n",
        "        self.fc = nn.Sequential(\\\n",
        "                nn.Linear(28 * 28, 128), \\\n",
        "                nn.ReLU(), \\\n",
        "                nn.Linear(128, 64), \\\n",
        "                nn.ReLU(), \\\n",
        "                nn.Linear(64, 1))\n",
        "        \n",
        "    def forward(self, x):\n",
        "        b = x.size(0)\n",
        "        x = x.reshape(b, -1)\n",
        "        x = self.fc(x)\n",
        "        x = torch.sigmoid(x).squeeze()\n",
        "        return x\n",
        "\n",
        "################################################################################\n",
        "\n",
        "\n",
        "#==============================================================================#\n",
        "# sanity check ================================================================#\n",
        "g = Generator()\n",
        "d = Discriminator()\n",
        "z = sampler(32, 2)\n",
        "print(z.size())\n",
        "print(g(z).size())\n",
        "print(d(g(z)).size())\n",
        "#==============================================================================#\n"
      ],
      "execution_count": 11,
      "outputs": [
        {
          "output_type": "stream",
          "name": "stdout",
          "text": [
            "torch.Size([32, 2])\n",
            "torch.Size([32, 1, 28, 28])\n",
            "torch.Size([32])\n"
          ]
        }
      ]
    },
    {
      "cell_type": "markdown",
      "metadata": {
        "id": "CG3jM7btlc4D"
      },
      "source": [
        "## **Train**"
      ]
    },
    {
      "cell_type": "code",
      "metadata": {
        "colab": {
          "base_uri": "https://localhost:8080/",
          "height": 356,
          "referenced_widgets": [
            "7131e271f6874de79562412cac318c77",
            "8054859db17148f1bfb4cb4d0f518050",
            "0a01c32b4675440ba5ca9f7b36cbee41",
            "dd295dce903a45a18dc30f7b9ec42e47",
            "e5008efa2890402aa81f829a2d6350e1",
            "4e48aef8453f4b0ab96336400c545add",
            "e373788911c24281ab7f4df0d9285824",
            "263769f1685b4660afa99965cbf38214",
            "0a98465f404c42319f91042372e19a4d",
            "02c1ba0354944eeea5d297fcfabc64bf",
            "3e1691a3fbf347359b01f0fc67504570"
          ]
        },
        "id": "nNWCRkHoluUL",
        "outputId": "7086638c-5628-4ad3-8b7c-d88f002e31e9"
      },
      "source": [
        "################################################################################\n",
        "# train fxn ####################################################################\n",
        "\n",
        "def train_gan_single_epoch(generator, discriminator, train_loader):\n",
        "    generator.cuda()\n",
        "    discriminator.cuda()\n",
        "    g_optimizer = optim.Adam(generator.parameters(), lr=3e-4)\n",
        "    d_optimizer = optim.Adam(discriminator.parameters(), lr=3e-4)\n",
        "    criterion = nn.BCELoss()\n",
        "    epoch_loss_d, epoch_loss_g = 0, 0\n",
        "    # update parameters\n",
        "    for img, label in tqdm(train_loader):\n",
        "        img, label = img.cuda(), label.cuda()\n",
        "        b = img.size(0)\n",
        "        # update discriminator\n",
        "        d_optimizer.zero_grad()\n",
        "        prob_real = discriminator(img)\n",
        "        prob_fake = discriminator(generator(sampler(b, 32).cuda()))\n",
        "        loss_real = criterion(prob_real, torch.ones(prob_real.size()).cuda())\n",
        "        loss_fake = criterion(prob_fake, torch.zeros(prob_fake.size()).cuda())\n",
        "        loss_d = (loss_real + loss_fake)\n",
        "        loss_d.backward()\n",
        "        d_optimizer.step()\n",
        "        epoch_loss_d += loss_d.item()\n",
        "        # update generator\n",
        "        g_optimizer.zero_grad()\n",
        "        prob_fake = discriminator(generator(sampler(b, 32).cuda()))\n",
        "        loss_g = criterion(prob_fake, torch.ones(prob_fake.size()).cuda())\n",
        "        loss_g.backward()\n",
        "        g_optimizer.step()\n",
        "        epoch_loss_g += loss_g.item()\n",
        "    plot_10(generator(sampler(b, 32).cuda()))\n",
        "    return generator, discriminator, epoch_loss_g, epoch_loss_d\n",
        "\n",
        "################################################################################\n",
        "\n",
        "\n",
        "#==============================================================================#\n",
        "# excecute ====================================================================#\n",
        "g = Generator(z_dim=32)\n",
        "d = Discriminator()\n",
        "for epoch_idx in range(200):\n",
        "    g, d, epoch_loss_g, epoch_loss_d = \\\n",
        "            train_gan_single_epoch(g, d, train_loader)\n",
        "    print('generator loss: ', epoch_loss_g)\n",
        "    print('discriminator loss: ', epoch_loss_d)\n",
        "#==============================================================================#\n"
      ],
      "execution_count": null,
      "outputs": [
        {
          "output_type": "display_data",
          "data": {
            "application/vnd.jupyter.widget-view+json": {
              "model_id": "7131e271f6874de79562412cac318c77",
              "version_minor": 0,
              "version_major": 2
            },
            "text/plain": [
              "  0%|          | 0/3750 [00:00<?, ?it/s]"
            ]
          },
          "metadata": {}
        },
        {
          "output_type": "display_data",
          "data": {
            "image/png": "[encoded data removed]",
            "text/plain": [
              "<Figure size 720x2160 with 5 Axes>"
            ]
          },
          "metadata": {
            "needs_background": "light"
          }
        },
        {
          "output_type": "stream",
          "name": "stdout",
          "text": [
            "generator loss:  14612.284928381443\n",
            "discriminator loss:  1215.8695134364534\n"
          ]
        },
        {
          "output_type": "display_data",
          "data": {
            "application/vnd.jupyter.widget-view+json": {
              "model_id": "25dd27bb4ab2480d844616c2f214a0da",
              "version_minor": 0,
              "version_major": 2
            },
            "text/plain": [
              "  0%|          | 0/3750 [00:00<?, ?it/s]"
            ]
          },
          "metadata": {}
        },
        {
          "output_type": "display_data",
          "data": {
            "image/png": "[encoded data removed]",
            "text/plain": [
              "<Figure size 720x2160 with 5 Axes>"
            ]
          },
          "metadata": {
            "needs_background": "light"
          }
        },
        {
          "output_type": "stream",
          "name": "stdout",
          "text": [
            "generator loss:  12123.793358922005\n",
            "discriminator loss:  1652.7643818873912\n"
          ]
        },
        {
          "output_type": "display_data",
          "data": {
            "application/vnd.jupyter.widget-view+json": {
              "model_id": "fc313cb089c44afeb9b1a69de679f300",
              "version_minor": 0,
              "version_major": 2
            },
            "text/plain": [
              "  0%|          | 0/3750 [00:00<?, ?it/s]"
            ]
          },
          "metadata": {}
        }
      ]
    },
    {
      "cell_type": "markdown",
      "metadata": {
        "id": "W7zCBtdOe4J0"
      },
      "source": [
        "## **Plot Generated Images**"
      ]
    },
    {
      "cell_type": "code",
      "metadata": {
        "id": "BrDvuDmV4YD-"
      },
      "source": [
        "1"
      ],
      "execution_count": null,
      "outputs": []
    }
  ]
}